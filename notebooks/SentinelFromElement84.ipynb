{
 "cells": [
  {
   "cell_type": "code",
   "execution_count": null,
   "id": "9165679e",
   "metadata": {},
   "outputs": [],
   "source": [
    "from google.cloud import storage_transfer"
   ]
  },
  {
   "cell_type": "code",
   "execution_count": 1,
   "id": "64b54018-b0cf-4699-ab81-5b578eb655dc",
   "metadata": {},
   "outputs": [],
   "source": [
    "import os\n",
    "# all for requests\n",
    "import requests\n",
    "\n",
    "import json\n",
    "import geopandas as gpd\n",
    "import rasterio\n",
    "import matplotlib.pyplot as plt\n",
    "import numpy as np"
   ]
  },
  {
   "cell_type": "code",
   "execution_count": 2,
   "id": "672d5a3f-e123-4e61-852d-b2202b8da33c",
   "metadata": {},
   "outputs": [],
   "source": [
    "# Environment variables\n",
    "datasets_dir = os.environ.get('DATA_DIR_LOCAL')\n",
    "DATA_FOLDER = os.path.join(datasets_dir, \"RPG/PaysBasque\")\n",
    "source_data = gpd.read_file(os.path.join(DATA_FOLDER, \"contour-du-pays-basque.geojson\"))"
   ]
  },
  {
   "cell_type": "code",
   "execution_count": 3,
   "id": "08556355-c23a-4681-b52e-87800fa104f1",
   "metadata": {},
   "outputs": [],
   "source": [
    "bbox = list(source_data.geometry.values[0].bounds)\n",
    "date_range = \"2019-08-01T00:00:00Z/2019-08-31T12:31:12Z\"\n",
    "year = 2019"
   ]
  },
  {
   "cell_type": "code",
   "execution_count": 36,
   "id": "261ec101-04f4-4546-b0e3-9a24d0b36155",
   "metadata": {},
   "outputs": [
    {
     "data": {
      "text/plain": [
       "[-1.792350952083531, 42.95072315985167, -0.745872490046169, 43.547254988966124]"
      ]
     },
     "execution_count": 36,
     "metadata": {},
     "output_type": "execute_result"
    }
   ],
   "source": [
    "bbox"
   ]
  },
  {
   "cell_type": "code",
   "execution_count": 2,
   "id": "c68ce86c-bdfb-47fb-95b8-a889d2cf2885",
   "metadata": {},
   "outputs": [],
   "source": [
    "assets_to_download = ['thumbnail', 'tileinfo_metadata', 'granule_metadata', 'red','green', 'blue', 'green', 'nir', 'nir08', 'nir09',  'scl', 'visual','swir16', 'swir22', 'wvp']"
   ]
  },
  {
   "cell_type": "code",
   "execution_count": 6,
   "id": "cb1a9b6d-f2dd-4144-940e-1eb1fa7a3bcc",
   "metadata": {},
   "outputs": [],
   "source": [
    "def get_satellite_data_per_trimester(bbox, year, trimester, limit=200):\n",
    "    '''return urls of all channels for all year in all the bbox\n",
    "    returns urls, properties_dict'''\n",
    "    url = 'https://earth-search.aws.element84.com/v1/search'\n",
    "    trimester_dateranges = {\n",
    "        1: f\"{year}-01-01T00:00:00Z/{year}-03-31T23:59:59Z\",\n",
    "        2: f\"{year}-04-01T00:00:00Z/{year}-06-30T23:59:59Z\",\n",
    "        3: f\"{year}-07-01T00:00:00Z/{year}-09-30T23:59:59Z\",\n",
    "        4: f\"{year}-10-01T00:00:00Z/{year}-12-31T23:59:59Z\",\n",
    "    }\n",
    "    data={\"bbox\": bbox,\n",
    "         \"datetime\": trimester_dateranges[trimester],\n",
    "         \"collections\":[\"sentinel-2-l2a\"],\n",
    "         \"limit\": limit}\n",
    "    response = requests.post(url, json=data).json()\n",
    "    print(f\"Number of matches: {response['numberMatched']}, number returned = {response['numberReturned']}\")\n",
    "    urls = []\n",
    "    properties_dict = {}\n",
    "    for feature in response['features']:\n",
    "        urls.extend(get_urls_from_eo_feature(feature))\n",
    "        properties = eo_feature2properties_dict(feature)\n",
    "        properties_dict[properties['id']]=properties\n",
    "    return urls, properties_dict"
   ]
  },
  {
   "cell_type": "code",
   "execution_count": 7,
   "id": "a48cfd6a-d3e5-4183-82e2-34c770476d5e",
   "metadata": {},
   "outputs": [],
   "source": [
    "def get_satellite_data_per_month(bbox, year, month, limit=100):\n",
    "    '''return urls of all channels for all year in all the bbox\n",
    "    returns urls, properties_dict'''\n",
    "    url = 'https://earth-search.aws.element84.com/v1/search'\n",
    "    month_dateranges = {\n",
    "        1: f\"{year}-01-01T00:00:00Z/{year}-01-31T23:59:59Z\",\n",
    "        2: f\"{year}-02-01T00:00:00Z/{year}-02-28T23:59:59Z\",\n",
    "        3: f\"{year}-03-01T00:00:00Z/{year}-03-31T23:59:59Z\",\n",
    "        4: f\"{year}-04-01T00:00:00Z/{year}-04-30T23:59:59Z\",\n",
    "        5: f\"{year}-05-01T00:00:00Z/{year}-05-31T23:59:59Z\",\n",
    "        6: f\"{year}-06-01T00:00:00Z/{year}-06-30T23:59:59Z\",\n",
    "        7: f\"{year}-07-01T00:00:00Z/{year}-07-31T23:59:59Z\",\n",
    "        8: f\"{year}-08-01T00:00:00Z/{year}-08-31T23:59:59Z\",\n",
    "        9: f\"{year}-09-01T00:00:00Z/{year}-09-30T23:59:59Z\",\n",
    "        10: f\"{year}-10-01T00:00:00Z/{year}-10-31T23:59:59Z\",\n",
    "        11: f\"{year}-11-01T00:00:00Z/{year}-11-30T23:59:59Z\",\n",
    "        12: f\"{year}-12-01T00:00:00Z/{year}-12-31T23:59:59Z\"\n",
    "    }\n",
    "    data={\"bbox\": bbox,\n",
    "         \"datetime\": month_dateranges[month],\n",
    "         \"collections\":[\"sentinel-2-l2a\"],\n",
    "         \"limit\": limit}\n",
    "    response = requests.post(url, json=data).json()\n",
    "    print(f\"Number of matches: {response['numberMatched']}, number returned = {response['numberReturned']}\")\n",
    "    urls = []\n",
    "    properties_dict = {}\n",
    "    for feature in response['features']:\n",
    "        urls.extend(get_urls_from_eo_feature(feature))\n",
    "        properties = eo_feature2properties_dict(feature)\n",
    "        properties_dict[properties['id']]=properties\n",
    "    return urls, properties_dict"
   ]
  },
  {
   "cell_type": "code",
   "execution_count": 8,
   "id": "1b312f16-e794-4be3-8aed-ddffde78253c",
   "metadata": {},
   "outputs": [],
   "source": [
    "def get_satellite_data(bbox, year, limit=200):\n",
    "    urls = []\n",
    "    properties_dict = {}\n",
    "    for month in range(1, 13):\n",
    "        month_urls, month_properties = get_satellite_data_per_month(bbox, year, month, limit)\n",
    "        urls.extend(month_urls)\n",
    "        properties_dict.update(month_properties)\n",
    "    return urls, properties_dict"
   ]
  },
  {
   "cell_type": "code",
   "execution_count": 9,
   "id": "fff60eb4-f3ca-45e2-9a6f-a52cd65b3979",
   "metadata": {},
   "outputs": [],
   "source": [
    "def get_urls_from_eo_feature(eo_feature):\n",
    "    urls = []\n",
    "    for asset in assets_to_download:\n",
    "        urls.append(eo_feature['assets'][asset]['href'])\n",
    "    return urls"
   ]
  },
  {
   "cell_type": "code",
   "execution_count": 10,
   "id": "068eb43a-4585-4b04-80e6-33623ae9410c",
   "metadata": {
    "scrolled": true
   },
   "outputs": [],
   "source": [
    "def eo_feature2properties_dict(eo_feature):\n",
    "    ''' From eo_feature json (obtained from eart-search request) create dict of properties'''\n",
    "    properties_dict = {\n",
    "        'id':eo_feature['id'],\n",
    "        'datetime': eo_feature['properties']['datetime'],\n",
    "        'crs': eo_feature['properties']['proj:epsg'],\n",
    "        'geometry': eo_feature['geometry'],\n",
    "        'bbox': eo_feature['bbox'],\n",
    "        'assets_list': assets_to_download,\n",
    "        'urls_list': get_urls_from_eo_feature(eo_feature)\n",
    "    }\n",
    "    return properties_dict"
   ]
  },
  {
   "cell_type": "code",
   "execution_count": 11,
   "id": "8ff67466-2880-434d-9626-18ca7313c33a",
   "metadata": {},
   "outputs": [],
   "source": [
    "def urls2file(file_path, urls_list):\n",
    "    with open(file_path, \"w\") as file:\n",
    "        file.writelines(\"TsvHttpData-1.0\\n\")\n",
    "        for url in urls_list:\n",
    "            file.writelines(url+\"\\n\")"
   ]
  },
  {
   "cell_type": "code",
   "execution_count": 12,
   "id": "2ffe4d16-6cd2-4877-8011-d1c931a8669d",
   "metadata": {},
   "outputs": [
    {
     "ename": "NameError",
     "evalue": "name 'urls' is not defined",
     "output_type": "error",
     "traceback": [
      "\u001b[0;31m---------------------------------------------------------------------------\u001b[0m",
      "\u001b[0;31mNameError\u001b[0m                                 Traceback (most recent call last)",
      "Cell \u001b[0;32mIn[12], line 1\u001b[0m\n\u001b[0;32m----> 1\u001b[0m urls2file(\u001b[38;5;124m\"\u001b[39m\u001b[38;5;124m../url_list_file.tsv\u001b[39m\u001b[38;5;124m\"\u001b[39m, \u001b[43murls\u001b[49m)\n",
      "\u001b[0;31mNameError\u001b[0m: name 'urls' is not defined"
     ]
    }
   ],
   "source": [
    "urls2file(\"../url_list_file.tsv\", urls)"
   ]
  },
  {
   "cell_type": "code",
   "execution_count": 13,
   "id": "1d490e1a-9c7f-4c03-bd9c-996a449ee583",
   "metadata": {},
   "outputs": [
    {
     "data": {
      "text/plain": [
       "[-1.52487, 43.487949, 0.136726, 44.532196]"
      ]
     },
     "execution_count": 13,
     "metadata": {},
     "output_type": "execute_result"
    }
   ],
   "source": [
    "bbox_landes = [-1.52487, 43.487949, 0.136726,44.532196]\n",
    "bbox_landes"
   ]
  },
  {
   "cell_type": "code",
   "execution_count": 14,
   "id": "525881ff-15f5-4f9b-835b-5dcc1d1cd990",
   "metadata": {
    "scrolled": true
   },
   "outputs": [
    {
     "name": "stdout",
     "output_type": "stream",
     "text": [
      "Number of matches: 54, number returned = 54\n",
      "Number of matches: 51, number returned = 51\n",
      "Number of matches: 49, number returned = 49\n",
      "Number of matches: 48, number returned = 48\n",
      "Number of matches: 50, number returned = 50\n",
      "Number of matches: 58, number returned = 58\n",
      "Number of matches: 48, number returned = 48\n",
      "Number of matches: 50, number returned = 50\n",
      "Number of matches: 46, number returned = 46\n",
      "Number of matches: 52, number returned = 52\n",
      "Number of matches: 87, number returned = 87\n",
      "Number of matches: 96, number returned = 96\n"
     ]
    }
   ],
   "source": [
    "urls, properties_dict = get_satellite_data(bbox_landes, 2019, limit=160)\n",
    "#urls2file(\"../url_list_file.tsv\", urls)\n",
    "with open(\"../sat_data_properties.json\", \"w\") as file:\n",
    "    json.dump(properties_dict, file)\n",
    "upload_to_storage_and_return_token(\"../url_list_file.tsv\", \"test_download_from_url/url_list_file-2.tsv\", \"satellite_crops\")"
   ]
  },
  {
   "cell_type": "code",
   "execution_count": 18,
   "id": "09f7bad9",
   "metadata": {},
   "outputs": [],
   "source": [
    "with open(\"../sat_data_properties.json\", \"r\") as file:\n",
    "    sat_data_properties = json.load(file)"
   ]
  },
  {
   "cell_type": "code",
   "execution_count": 25,
   "id": "6fc52465",
   "metadata": {},
   "outputs": [
    {
     "name": "stdout",
     "output_type": "stream",
     "text": [
      "[-1.0266214817510957, 43.23561023331161, -0.37336693317772074, 44.230355918640115]\n"
     ]
    }
   ],
   "source": [
    "for key in sat_data_properties.keys():\n",
    "    if key.startswith(\"S2B_30TXP_2019\"):\n",
    "        print(sat_data_properties[key]['bbox'])\n",
    "        break"
   ]
  },
  {
   "cell_type": "code",
   "execution_count": 26,
   "id": "534b23d4",
   "metadata": {},
   "outputs": [],
   "source": [
    "from google.cloud.storage import Client\n",
    "\n",
    "client = Client()\n",
    "bucket = self.client.bucket(self.bucket_name)\n",
    "\n",
    "def list_dir(self, dir_path):\n",
    "    prefix=dir_path+\"/\"\n",
    "    return self.client.list_blobs(self.bucket_name, prefix=prefix)"
   ]
  },
  {
   "cell_type": "code",
   "execution_count": null,
   "id": "17d01da5",
   "metadata": {},
   "outputs": [],
   "source": []
  },
  {
   "cell_type": "markdown",
   "id": "e9937678-b4de-4c48-ae4d-64e6dae05ea1",
   "metadata": {},
   "source": [
    "# Automatically download from urls on bucket"
   ]
  },
  {
   "cell_type": "markdown",
   "id": "985be83e-1401-44dd-8290-0777c51a636c",
   "metadata": {},
   "source": [
    "TsvHttpData-1.0\n",
    "https://example.com/buckets/obj1      1357      wHENa08V36iPYAsOa2JAdw==\n",
    "https://example.com/buckets/obj2      2468      R9acAaveoPd2y8nniLUYbw==\n"
   ]
  },
  {
   "cell_type": "code",
   "execution_count": 21,
   "id": "cb330e35-b0f9-4d42-9b5a-42f9f41b47ad",
   "metadata": {},
   "outputs": [],
   "source": [
    "from datetime import datetime\n",
    "from google.cloud import storage\n",
    "\n",
    "def create_one_time_http_transfer(\n",
    "    description: str,\n",
    "    list_url: str,\n",
    "    sink_bucket: str,\n",
    "    project_id: str=\"satellite-crops\"\n",
    "):\n",
    "    \"\"\"Creates a one-time transfer job from Amazon S3 to Google Cloud\n",
    "    Storage.\"\"\"\n",
    "    storage_client = storage.Client.from_service_account_json(\"../.secrets/satellite-crops-e2c6e26ef012.json\")\n",
    "    # the same time creates a one-time transfer\n",
    "    one_time_schedule = {\"day\": now.day, \"month\": now.month, \"year\": now.year}\n",
    "\n",
    "    transfer_job_request = storage_transfer.CreateTransferJobRequest(\n",
    "        {\n",
    "            \"transfer_job\": {\n",
    "                \"project_id\": project_id,\n",
    "                \"description\": description,\n",
    "                \"status\": storage_transfer.TransferJob.Status.ENABLED,\n",
    "                \"schedule\": {\n",
    "                    \"schedule_start_date\": one_time_schedule,\n",
    "                    \"schedule_end_date\": one_time_schedule,\n",
    "                },\n",
    "                \"transfer_spec\": {\n",
    "                    \"http_data_source\": storage_transfer.HttpData(list_url=list_url),\n",
    "                    \"gcs_data_sink\": {\n",
    "                        \"bucket_name\": sink_bucket,\n",
    "                    },\n",
    "                },\n",
    "            }\n",
    "        }\n",
    "    )\n",
    "\n",
    "    result = client.create_transfer_job(transfer_job_request)\n",
    "    print(f\"Created transferJob: {result.name}\")\n",
    "\n",
    "def upload_to_storage_and_return_token(\n",
    "    file_input_path: str, file_output_path: str, bucket_name: str\n",
    ") -> str:\n",
    "    gcs = storage.Client.from_service_account_json(\"../.secrets/satellite-crops-e2c6e26ef012.json\")\n",
    "    # # Get the bucket that the file will be uploaded to.\n",
    "    bucket = gcs.bucket(bucket_name)\n",
    "    # # Create a new blob and upload the file's content.\n",
    "    blob = bucket.blob(file_output_path)\n",
    "    blob.upload_from_filename(file_input_path)\n",
    "    return blob.generate_signed_url(datetime.now())"
   ]
  },
  {
   "cell_type": "code",
   "execution_count": 66,
   "id": "4d01a6dd-2b18-40d0-bc06-746c032fd960",
   "metadata": {
    "scrolled": true
   },
   "outputs": [
    {
     "data": {
      "text/plain": [
       "'https://storage.googleapis.com/satellite_crops/test_download_from_url/url_list_file-2.tsv?Expires=1717772321&GoogleAccessId=satellite-crops%40appspot.gserviceaccount.com&Signature=PiRFsJt%2FpMxOa8zyWtAH%2BXGAl4ogsZE98sQRCW9t3a9H1cVrvRbhQaKrZZqXR0PbI7PI5b30YISEvSgsmODSy722uSP03J8Qe4bqAUk2Gh1UK2Y3geuGtxoDj%2FpD6L106PCSNvTCToUKtK%2BX8BYtdssSmzvhIxJXD0LJJ5CikmQqhMchSYXKoM4XqAySNAcRZJ3jBmTLs8V2vSIfDLW3819SSbISHbrq2FeJ2ucxPsgojfxrubYalahlMvstnuwwuiogPAb5maLjYMX29WClcDctMbWwq7ZuBIl09VRxZf0dPHRohkmYLh02%2FwMdB3crcxDpWwyZsj8ZLew9pH2zPQ%3D%3D'"
      ]
     },
     "execution_count": 66,
     "metadata": {},
     "output_type": "execute_result"
    }
   ],
   "source": [
    "upload_to_storage_and_return_token(\"../url_list_file.tsv\", \"test_download_from_url/url_list_file-2.tsv\", \"satellite_crops\")"
   ]
  },
  {
   "cell_type": "code",
   "execution_count": null,
   "id": "da0910f7-23bc-4aa0-a686-83c6979bcd96",
   "metadata": {},
   "outputs": [],
   "source": []
  }
 ],
 "metadata": {
  "kernelspec": {
   "display_name": "Python 3 (ipykernel)",
   "language": "python",
   "name": "python3"
  },
  "language_info": {
   "codemirror_mode": {
    "name": "ipython",
    "version": 3
   },
   "file_extension": ".py",
   "mimetype": "text/x-python",
   "name": "python",
   "nbconvert_exporter": "python",
   "pygments_lexer": "ipython3",
   "version": "3.12.3"
  }
 },
 "nbformat": 4,
 "nbformat_minor": 5
}
